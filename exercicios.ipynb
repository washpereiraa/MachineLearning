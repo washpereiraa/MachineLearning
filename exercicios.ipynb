{
 "cells": [
  {
   "cell_type": "code",
   "execution_count": 1,
   "metadata": {},
   "outputs": [
    {
     "data": {
      "text/plain": [
       "4"
      ]
     },
     "execution_count": 1,
     "metadata": {},
     "output_type": "execute_result"
    }
   ],
   "source": [
    "#EXERCICIOS\n",
    "\n",
    "#1 como elevar u numero ao quadrado\n",
    "2 **2"
   ]
  },
  {
   "cell_type": "code",
   "execution_count": 2,
   "metadata": {},
   "outputs": [
    {
     "data": {
      "text/plain": [
       "['ola', 'meu', 'povo']"
      ]
     },
     "execution_count": 2,
     "metadata": {},
     "output_type": "execute_result"
    }
   ],
   "source": [
    "#2 como separar strings em lista\n",
    "\n",
    "s= 'ola meu povo'\n",
    "\n",
    "s.split()"
   ]
  },
  {
   "cell_type": "code",
   "execution_count": 3,
   "metadata": {},
   "outputs": [
    {
     "data": {
      "text/plain": [
       "'refem'"
      ]
     },
     "execution_count": 3,
     "metadata": {},
     "output_type": "execute_result"
    }
   ],
   "source": [
    "#3 acessar valor de uma lista, dentro de outra lista\n",
    "\n",
    "lista = [1,2,3,['ola', 'igreja',['medo', 'refem']],4,5,6]\n",
    "\n",
    "lista[3][2][1]"
   ]
  },
  {
   "cell_type": "code",
   "execution_count": 4,
   "metadata": {},
   "outputs": [
    {
     "data": {
      "text/plain": [
       "'cientista de dados'"
      ]
     },
     "execution_count": 4,
     "metadata": {},
     "output_type": "execute_result"
    }
   ],
   "source": [
    "#4 acessar valor de um dicionario\n",
    "\n",
    "dicionario = {'Washington':['27 anos', 'negro', {'profisao':['blogueiro', 'cientista de dados']}], \n",
    "              'Junior':['29 anos', 'branco', 'maquiador e arquiteto']}\n",
    "\n",
    "dicionario['Washington'][2]['profisao'][1]"
   ]
  },
  {
   "cell_type": "code",
   "execution_count": 7,
   "metadata": {},
   "outputs": [
    {
     "data": {
      "text/plain": [
       "'gmail.com'"
      ]
     },
     "execution_count": 7,
     "metadata": {},
     "output_type": "execute_result"
    }
   ],
   "source": [
    "#5 Retirar o dominio de um email\n",
    "\n",
    "email = 'washingtonpereira@gmail.com'\n",
    "\n",
    "dominio = email.split('@')[-1]\n",
    "dominio"
   ]
  },
  {
   "cell_type": "code",
   "execution_count": 20,
   "metadata": {},
   "outputs": [
    {
     "data": {
      "text/plain": [
       "2"
      ]
     },
     "execution_count": 20,
     "metadata": {},
     "output_type": "execute_result"
    }
   ],
   "source": [
    "#6 Contar o numeor de vezes que a palavra cachorro repete\n",
    "\n",
    "frase = 'tem um cachorro no meu quarto e outro na sala, um cachorro no quintal e outro na casa do vizinho'\n",
    "\n",
    "numero = len (frase.split('cachorro'))-1\n",
    "numero"
   ]
  },
  {
   "cell_type": "code",
   "execution_count": 32,
   "metadata": {},
   "outputs": [
    {
     "data": {
      "text/plain": [
       "['sapo', 'sapeca', 'superman']"
      ]
     },
     "execution_count": 32,
     "metadata": {},
     "output_type": "execute_result"
    }
   ],
   "source": [
    "#7 Encontrar palavras que começa com S\n",
    "\n",
    "palavras = ['torta', 'sapo', 'sapeca', 'tartatura', 'esperto', 'superman']\n",
    "\n",
    "list(filter(lambda palavra:palavra[0]=='s', palavras)) #lambda cria um funcação temporaria com apenas uma linda"
   ]
  },
  {
   "cell_type": "code",
   "execution_count": null,
   "metadata": {},
   "outputs": [],
   "source": []
  }
 ],
 "metadata": {
  "kernelspec": {
   "display_name": "Python 3",
   "language": "python",
   "name": "python3"
  },
  "language_info": {
   "codemirror_mode": {
    "name": "ipython",
    "version": 3
   },
   "file_extension": ".py",
   "mimetype": "text/x-python",
   "name": "python",
   "nbconvert_exporter": "python",
   "pygments_lexer": "ipython3",
   "version": "3.7.6"
  }
 },
 "nbformat": 4,
 "nbformat_minor": 4
}
