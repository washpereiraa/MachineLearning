{
 "cells": [
  {
   "cell_type": "code",
   "execution_count": 1,
   "metadata": {},
   "outputs": [],
   "source": [
    "import numpy as np\n",
    "import pandas as pd"
   ]
  },
  {
   "cell_type": "code",
   "execution_count": 4,
   "metadata": {},
   "outputs": [],
   "source": [
    "estados = ['RJ', 'RJ', 'MG', 'MG', 'SP', 'SP']\n",
    "cidades = ['Niteroi', 'Saquarema', 'Paracatu', 'Vazante', 'Santos', 'Ubatuba']"
   ]
  },
  {
   "cell_type": "code",
   "execution_count": 5,
   "metadata": {},
   "outputs": [
    {
     "data": {
      "text/plain": [
       "[('RJ', 'Niteroi'),\n",
       " ('RJ', 'Saquarema'),\n",
       " ('MG', 'Paracatu'),\n",
       " ('MG', 'Vazante'),\n",
       " ('SP', 'Santos'),\n",
       " ('SP', 'Ubatuba')]"
      ]
     },
     "execution_count": 5,
     "metadata": {},
     "output_type": "execute_result"
    }
   ],
   "source": [
    "#criando hierarquia\n",
    "\n",
    "hierarquia = list(zip(estados, cidades)) \n",
    "hierarquia"
   ]
  },
  {
   "cell_type": "code",
   "execution_count": 6,
   "metadata": {},
   "outputs": [
    {
     "data": {
      "text/plain": [
       "MultiIndex([('RJ',   'Niteroi'),\n",
       "            ('RJ', 'Saquarema'),\n",
       "            ('MG',  'Paracatu'),\n",
       "            ('MG',   'Vazante'),\n",
       "            ('SP',    'Santos'),\n",
       "            ('SP',   'Ubatuba')],\n",
       "           )"
      ]
     },
     "execution_count": 6,
     "metadata": {},
     "output_type": "execute_result"
    }
   ],
   "source": [
    "#agrupando dados \n",
    "\n",
    "multiIndex = pd.MultiIndex.from_tuples(hierarquia)\n",
    "multiIndex"
   ]
  },
  {
   "cell_type": "code",
   "execution_count": 28,
   "metadata": {},
   "outputs": [
    {
     "data": {
      "text/html": [
       "<div>\n",
       "<style scoped>\n",
       "    .dataframe tbody tr th:only-of-type {\n",
       "        vertical-align: middle;\n",
       "    }\n",
       "\n",
       "    .dataframe tbody tr th {\n",
       "        vertical-align: top;\n",
       "    }\n",
       "\n",
       "    .dataframe thead th {\n",
       "        text-align: right;\n",
       "    }\n",
       "</style>\n",
       "<table border=\"1\" class=\"dataframe\">\n",
       "  <thead>\n",
       "    <tr style=\"text-align: right;\">\n",
       "      <th></th>\n",
       "      <th></th>\n",
       "      <th>IDAH - A</th>\n",
       "      <th>IDAH - B</th>\n",
       "    </tr>\n",
       "    <tr>\n",
       "      <th>Estados</th>\n",
       "      <th>Cidades</th>\n",
       "      <th></th>\n",
       "      <th></th>\n",
       "    </tr>\n",
       "  </thead>\n",
       "  <tbody>\n",
       "    <tr>\n",
       "      <th rowspan=\"2\" valign=\"top\">RJ</th>\n",
       "      <th>Niteroi</th>\n",
       "      <td>0.592626</td>\n",
       "      <td>0.179667</td>\n",
       "    </tr>\n",
       "    <tr>\n",
       "      <th>Saquarema</th>\n",
       "      <td>0.894466</td>\n",
       "      <td>0.470803</td>\n",
       "    </tr>\n",
       "    <tr>\n",
       "      <th rowspan=\"2\" valign=\"top\">MG</th>\n",
       "      <th>Paracatu</th>\n",
       "      <td>0.611800</td>\n",
       "      <td>0.497319</td>\n",
       "    </tr>\n",
       "    <tr>\n",
       "      <th>Vazante</th>\n",
       "      <td>0.559085</td>\n",
       "      <td>0.960865</td>\n",
       "    </tr>\n",
       "    <tr>\n",
       "      <th rowspan=\"2\" valign=\"top\">SP</th>\n",
       "      <th>Santos</th>\n",
       "      <td>0.154970</td>\n",
       "      <td>0.238434</td>\n",
       "    </tr>\n",
       "    <tr>\n",
       "      <th>Ubatuba</th>\n",
       "      <td>0.618135</td>\n",
       "      <td>0.153850</td>\n",
       "    </tr>\n",
       "  </tbody>\n",
       "</table>\n",
       "</div>"
      ],
      "text/plain": [
       "                   IDAH - A  IDAH - B\n",
       "Estados Cidades                      \n",
       "RJ      Niteroi    0.592626  0.179667\n",
       "        Saquarema  0.894466  0.470803\n",
       "MG      Paracatu   0.611800  0.497319\n",
       "        Vazante    0.559085  0.960865\n",
       "SP      Santos     0.154970  0.238434\n",
       "        Ubatuba    0.618135  0.153850"
      ]
     },
     "execution_count": 28,
     "metadata": {},
     "output_type": "execute_result"
    }
   ],
   "source": [
    "#criando DATAFRAME\n",
    "\n",
    "dframeMultiIndex = pd.DataFrame(np.random.rand(6,2), index = multiIndex, columns = ['IDAH - A', 'IDAH - B'])\n",
    "dframeMultiIndex"
   ]
  },
  {
   "cell_type": "code",
   "execution_count": 29,
   "metadata": {},
   "outputs": [
    {
     "data": {
      "text/plain": [
       "IDAH - A    0.592626\n",
       "IDAH - B    0.179667\n",
       "Name: Niteroi, dtype: float64"
      ]
     },
     "execution_count": 29,
     "metadata": {},
     "output_type": "execute_result"
    }
   ],
   "source": [
    "#locolizando dados\n",
    "\n",
    "dframeMultiIndex.loc['RJ'].loc['Niteroi']"
   ]
  },
  {
   "cell_type": "code",
   "execution_count": 30,
   "metadata": {},
   "outputs": [
    {
     "data": {
      "text/html": [
       "<div>\n",
       "<style scoped>\n",
       "    .dataframe tbody tr th:only-of-type {\n",
       "        vertical-align: middle;\n",
       "    }\n",
       "\n",
       "    .dataframe tbody tr th {\n",
       "        vertical-align: top;\n",
       "    }\n",
       "\n",
       "    .dataframe thead th {\n",
       "        text-align: right;\n",
       "    }\n",
       "</style>\n",
       "<table border=\"1\" class=\"dataframe\">\n",
       "  <thead>\n",
       "    <tr style=\"text-align: right;\">\n",
       "      <th></th>\n",
       "      <th></th>\n",
       "      <th>IDAH - A</th>\n",
       "      <th>IDAH - B</th>\n",
       "    </tr>\n",
       "    <tr>\n",
       "      <th>Estados</th>\n",
       "      <th>Cidades</th>\n",
       "      <th></th>\n",
       "      <th></th>\n",
       "    </tr>\n",
       "  </thead>\n",
       "  <tbody>\n",
       "    <tr>\n",
       "      <th rowspan=\"2\" valign=\"top\">RJ</th>\n",
       "      <th>Niteroi</th>\n",
       "      <td>0.592626</td>\n",
       "      <td>0.179667</td>\n",
       "    </tr>\n",
       "    <tr>\n",
       "      <th>Saquarema</th>\n",
       "      <td>0.894466</td>\n",
       "      <td>0.470803</td>\n",
       "    </tr>\n",
       "    <tr>\n",
       "      <th rowspan=\"2\" valign=\"top\">MG</th>\n",
       "      <th>Paracatu</th>\n",
       "      <td>0.611800</td>\n",
       "      <td>0.497319</td>\n",
       "    </tr>\n",
       "    <tr>\n",
       "      <th>Vazante</th>\n",
       "      <td>0.559085</td>\n",
       "      <td>0.960865</td>\n",
       "    </tr>\n",
       "    <tr>\n",
       "      <th rowspan=\"2\" valign=\"top\">SP</th>\n",
       "      <th>Santos</th>\n",
       "      <td>0.154970</td>\n",
       "      <td>0.238434</td>\n",
       "    </tr>\n",
       "    <tr>\n",
       "      <th>Ubatuba</th>\n",
       "      <td>0.618135</td>\n",
       "      <td>0.153850</td>\n",
       "    </tr>\n",
       "  </tbody>\n",
       "</table>\n",
       "</div>"
      ],
      "text/plain": [
       "                   IDAH - A  IDAH - B\n",
       "Estados Cidades                      \n",
       "RJ      Niteroi    0.592626  0.179667\n",
       "        Saquarema  0.894466  0.470803\n",
       "MG      Paracatu   0.611800  0.497319\n",
       "        Vazante    0.559085  0.960865\n",
       "SP      Santos     0.154970  0.238434\n",
       "        Ubatuba    0.618135  0.153850"
      ]
     },
     "execution_count": 30,
     "metadata": {},
     "output_type": "execute_result"
    }
   ],
   "source": [
    "#nomeando indices\n",
    "\n",
    "dframeMultiIndex.index.names = ['Estados', 'Cidades']\n",
    "dframeMultiIndex"
   ]
  },
  {
   "cell_type": "code",
   "execution_count": 25,
   "metadata": {},
   "outputs": [
    {
     "data": {
      "text/html": [
       "<div>\n",
       "<style scoped>\n",
       "    .dataframe tbody tr th:only-of-type {\n",
       "        vertical-align: middle;\n",
       "    }\n",
       "\n",
       "    .dataframe tbody tr th {\n",
       "        vertical-align: top;\n",
       "    }\n",
       "\n",
       "    .dataframe thead th {\n",
       "        text-align: right;\n",
       "    }\n",
       "</style>\n",
       "<table border=\"1\" class=\"dataframe\">\n",
       "  <thead>\n",
       "    <tr style=\"text-align: right;\">\n",
       "      <th></th>\n",
       "      <th>A</th>\n",
       "      <th>B</th>\n",
       "    </tr>\n",
       "    <tr>\n",
       "      <th>Cidades</th>\n",
       "      <th></th>\n",
       "      <th></th>\n",
       "    </tr>\n",
       "  </thead>\n",
       "  <tbody>\n",
       "    <tr>\n",
       "      <th>Niteroi</th>\n",
       "      <td>0.736635</td>\n",
       "      <td>0.994299</td>\n",
       "    </tr>\n",
       "    <tr>\n",
       "      <th>Saquarema</th>\n",
       "      <td>0.872687</td>\n",
       "      <td>0.280158</td>\n",
       "    </tr>\n",
       "  </tbody>\n",
       "</table>\n",
       "</div>"
      ],
      "text/plain": [
       "                  A         B\n",
       "Cidades                      \n",
       "Niteroi    0.736635  0.994299\n",
       "Saquarema  0.872687  0.280158"
      ]
     },
     "execution_count": 25,
     "metadata": {},
     "output_type": "execute_result"
    }
   ],
   "source": [
    "#localizando por  cross-section​ =XS\n",
    "\n",
    "dframeMultiIndex.xs('RJ')"
   ]
  },
  {
   "cell_type": "code",
   "execution_count": 34,
   "metadata": {},
   "outputs": [
    {
     "data": {
      "text/html": [
       "<div>\n",
       "<style scoped>\n",
       "    .dataframe tbody tr th:only-of-type {\n",
       "        vertical-align: middle;\n",
       "    }\n",
       "\n",
       "    .dataframe tbody tr th {\n",
       "        vertical-align: top;\n",
       "    }\n",
       "\n",
       "    .dataframe thead th {\n",
       "        text-align: right;\n",
       "    }\n",
       "</style>\n",
       "<table border=\"1\" class=\"dataframe\">\n",
       "  <thead>\n",
       "    <tr style=\"text-align: right;\">\n",
       "      <th></th>\n",
       "      <th>IDAH - A</th>\n",
       "      <th>IDAH - B</th>\n",
       "    </tr>\n",
       "    <tr>\n",
       "      <th>Estados</th>\n",
       "      <th></th>\n",
       "      <th></th>\n",
       "    </tr>\n",
       "  </thead>\n",
       "  <tbody>\n",
       "    <tr>\n",
       "      <th>RJ</th>\n",
       "      <td>0.592626</td>\n",
       "      <td>0.179667</td>\n",
       "    </tr>\n",
       "  </tbody>\n",
       "</table>\n",
       "</div>"
      ],
      "text/plain": [
       "         IDAH - A  IDAH - B\n",
       "Estados                    \n",
       "RJ       0.592626  0.179667"
      ]
     },
     "execution_count": 34,
     "metadata": {},
     "output_type": "execute_result"
    }
   ],
   "source": [
    "#localizando por  cross-section​ =XS\n",
    "\n",
    "dframeMultiIndex.xs('Niteroi', level='Cidades')"
   ]
  },
  {
   "cell_type": "code",
   "execution_count": null,
   "metadata": {},
   "outputs": [],
   "source": []
  }
 ],
 "metadata": {
  "kernelspec": {
   "display_name": "Python 3",
   "language": "python",
   "name": "python3"
  },
  "language_info": {
   "codemirror_mode": {
    "name": "ipython",
    "version": 3
   },
   "file_extension": ".py",
   "mimetype": "text/x-python",
   "name": "python",
   "nbconvert_exporter": "python",
   "pygments_lexer": "ipython3",
   "version": "3.7.6"
  }
 },
 "nbformat": 4,
 "nbformat_minor": 4
}
